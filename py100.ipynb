{
 "cells": [
  {
   "cell_type": "code",
   "id": "initial_id",
   "metadata": {
    "collapsed": true,
    "ExecuteTime": {
     "end_time": "2024-09-15T08:39:15.816909Z",
     "start_time": "2024-09-15T08:39:15.809174Z"
    }
   },
   "source": [
    "from numpy.ma.core import minimum\n",
    "\n",
    "for i in range(1,5):\n",
    "    for j in range(1,5):\n",
    "        for k in range(1,5):\n",
    "            if (i!=j)and(i!=k)and(j!=k):\n",
    "                print(i,j,k)"
   ],
   "outputs": [
    {
     "name": "stdout",
     "output_type": "stream",
     "text": [
      "1 2 3\n",
      "1 2 4\n",
      "1 3 2\n",
      "1 3 4\n",
      "1 4 2\n",
      "1 4 3\n",
      "2 1 3\n",
      "2 1 4\n",
      "2 3 1\n",
      "2 3 4\n",
      "2 4 1\n",
      "2 4 3\n",
      "3 1 2\n",
      "3 1 4\n",
      "3 2 1\n",
      "3 2 4\n",
      "3 4 1\n",
      "3 4 2\n",
      "4 1 2\n",
      "4 1 3\n",
      "4 2 1\n",
      "4 2 3\n",
      "4 3 1\n",
      "4 3 2\n"
     ]
    }
   ],
   "execution_count": 3
  },
  {
   "metadata": {
    "ExecuteTime": {
     "end_time": "2024-09-15T08:59:53.603773Z",
     "start_time": "2024-09-15T08:59:50.994805Z"
    }
   },
   "cell_type": "code",
   "source": [
    "'''题目：企业发放的奖金根据利润提成。利润(I)低于或等于10万元时，奖金可提10%；\n",
    "利润高于10万元，低于20万元时，低于10万元的部分按10%提成，高于10万元的部分，可提成7.5%；\n",
    "20万到40万之间时，高于20万元的部分，可提成5%；\n",
    "40万到60万之间时高于40万元的部分，可提成3%；\n",
    "60万到100万之间时，高于60万元的部分，可提成1.5%，\n",
    "高于100万元时，超过100万元的部分按1%提成，从键盘输入当月利润I，求应发放奖金总数？\n",
    "\n",
    "程序分析：请利用数轴来分界，定位。'''\n",
    "\n",
    "I=int(input())\n",
    "if I<=10:\n",
    "    J=0.1*I\n",
    "    print(str(J)+\"万\")\n",
    "elif(I>10)and(I<=20):\n",
    "    J=1.0+(I-10)*0.075\n",
    "    print(str(J)+\"万\")\n",
    "elif(I>20)and(I<=40):\n",
    "    J=1.0+10*0.075+(I-20)*0.050\n",
    "    print(str(J)+\"万\")\n"
   ],
   "id": "bf7dd1e428110869",
   "outputs": [
    {
     "name": "stdout",
     "output_type": "stream",
     "text": [
      "2.25万\n"
     ]
    }
   ],
   "execution_count": 18
  },
  {
   "metadata": {
    "ExecuteTime": {
     "end_time": "2024-09-15T09:20:12.699922Z",
     "start_time": "2024-09-15T09:20:12.692922Z"
    }
   },
   "cell_type": "code",
   "source": [
    "def find():\n",
    "    for i in range(2,85):\n",
    "        if 168 % i==0:\n",
    "            j=168//i\n",
    "            if(i>j)and((i+j)%2==0)and((i-j)%2==0):\n",
    "                m=(j+i)//2\n",
    "                n=(i-j)//2\n",
    "                x=n*n-100\n",
    "                print(x)\n",
    "find()\n",
    "                "
   ],
   "id": "136f65fb459f813e",
   "outputs": [
    {
     "name": "stdout",
     "output_type": "stream",
     "text": [
      "-99\n",
      "21\n",
      "261\n",
      "1581\n"
     ]
    }
   ],
   "execution_count": 19
  },
  {
   "metadata": {
    "ExecuteTime": {
     "end_time": "2024-09-15T09:38:11.659287Z",
     "start_time": "2024-09-15T09:38:05.052687Z"
    }
   },
   "cell_type": "code",
   "source": [
    "year=int(input(\"year\\n\"))\n",
    "month=int(input(\"month\\n\"))\n",
    "day=int(input(\"day\\n\"))\n",
    "\n",
    "if (month<2)and(month>0):\n",
    "    x=31+day\n",
    "    print(x)\n",
    "elif (month>2)and(month<12):\n",
    "    m=[31,28,31,30,31,30,31,31,30,31,30,31]\n",
    "    if year%4==0 and year%100!=0 or year%400==0:\n",
    "        x = sum(m[:month -1]) + day +1\n",
    "    else:\n",
    "         x = sum(m[:month -1]) + day \n",
    "        \n",
    "    print(x)\n"
   ],
   "id": "c8d668284a8aaf5b",
   "outputs": [
    {
     "name": "stdout",
     "output_type": "stream",
     "text": [
      "157\n"
     ]
    }
   ],
   "execution_count": 21
  },
  {
   "metadata": {
    "ExecuteTime": {
     "end_time": "2024-09-15T09:48:38.143824Z",
     "start_time": "2024-09-15T09:48:28.821954Z"
    }
   },
   "cell_type": "code",
   "source": [
    "x=int(input(\"x\"))\n",
    "y=int(input(\"y\"))\n",
    "z=int(input(\"z\"))\n",
    "\n",
    "arr=[x,y,z]\n",
    "m=max(arr)\n",
    "arr.remove(m)\n",
    "n=max(arr)\n",
    "arr.remove(n)\n",
    "print(str(m)+' '+ str(n) +' '+ str(arr[0]))\n"
   ],
   "id": "3338bc70afe50b5d",
   "outputs": [
    {
     "name": "stdout",
     "output_type": "stream",
     "text": [
      "78 54 36\n"
     ]
    }
   ],
   "execution_count": 25
  },
  {
   "metadata": {
    "ExecuteTime": {
     "end_time": "2024-09-15T10:00:34.603276Z",
     "start_time": "2024-09-15T10:00:27.140330Z"
    }
   },
   "cell_type": "code",
   "source": [
    "M=[]\n",
    "for i in range(3):\n",
    "    x=int(input(\"x\"))\n",
    "    M.append(x)\n",
    "M.sort(reverse=True)\n",
    "print(M)"
   ],
   "id": "cac0a788ae57ebd5",
   "outputs": [
    {
     "name": "stdout",
     "output_type": "stream",
     "text": [
      "[9, 8, 2]\n"
     ]
    }
   ],
   "execution_count": 27
  },
  {
   "metadata": {
    "ExecuteTime": {
     "end_time": "2024-09-15T10:08:44.497642Z",
     "start_time": "2024-09-15T10:08:41.630474Z"
    }
   },
   "cell_type": "code",
   "source": [
    "def feibo():\n",
    "    n=int(input(\"n\"))\n",
    "    a,b=1,1\n",
    "    for i in range(n-1):\n",
    "        \n",
    "        a,b = b,a+b\n",
    "   \n",
    "    print(a)\n",
    "    \n",
    "feibo()"
   ],
   "id": "20b6db15d0fdc02f",
   "outputs": [
    {
     "name": "stdout",
     "output_type": "stream",
     "text": [
      "13\n"
     ]
    }
   ],
   "execution_count": 33
  },
  {
   "metadata": {
    "ExecuteTime": {
     "end_time": "2024-09-15T11:02:08.866772Z",
     "start_time": "2024-09-15T11:02:08.857775Z"
    }
   },
   "cell_type": "code",
   "source": [
    "def feibo(n):\n",
    "    \n",
    "    a,b=1,1\n",
    "    for i in range(n-1):\n",
    "        \n",
    "        a,b = b,a+b\n",
    "    return a\n",
    "    \n",
    "print (feibo(16))"
   ],
   "id": "2f1c74318c1c50c4",
   "outputs": [
    {
     "name": "stdout",
     "output_type": "stream",
     "text": [
      "987\n"
     ]
    }
   ],
   "execution_count": 40
  },
  {
   "metadata": {
    "ExecuteTime": {
     "end_time": "2024-09-15T11:02:13.879140Z",
     "start_time": "2024-09-15T11:02:13.859636Z"
    }
   },
   "cell_type": "code",
   "source": [
    "def feibo(n):\n",
    "    if n==1 or n==2:\n",
    "        return 1\n",
    "    else:\n",
    "        return feibo(n-1) + feibo(n-2)\n",
    "    \n",
    "feibo(16)"
   ],
   "id": "3dce2c5ec08cdc75",
   "outputs": [
    {
     "data": {
      "text/plain": [
       "987"
      ]
     },
     "execution_count": 45,
     "metadata": {},
     "output_type": "execute_result"
    }
   ],
   "execution_count": 45
  },
  {
   "metadata": {
    "ExecuteTime": {
     "end_time": "2024-09-15T11:05:59.971883Z",
     "start_time": "2024-09-15T11:05:59.956382Z"
    }
   },
   "cell_type": "code",
   "source": [
    "#!/usr/bin/python\n",
    "# -*- coding: UTF-8 -*-\n",
    " \n",
    "def fib(n):\n",
    "    if n == 1:\n",
    "        return [1]\n",
    "    if n == 2:\n",
    "        return [1, 1]\n",
    "    fibs = [1, 1]\n",
    "    for i in range(2, n):\n",
    "        fibs.append(fibs[-1] + fibs[-2])\n",
    "    return fibs\n",
    " \n",
    "# 输出前 10 个斐波那契数列\n",
    "print (fib(17))"
   ],
   "id": "a997f2b4f26be56",
   "outputs": [
    {
     "name": "stdout",
     "output_type": "stream",
     "text": [
      "[1, 1, 2, 3, 5, 8, 13, 21, 34, 55, 89, 144, 233, 377, 610, 987, 1597]\n"
     ]
    }
   ],
   "execution_count": 47
  },
  {
   "metadata": {
    "ExecuteTime": {
     "end_time": "2024-09-15T11:06:56.198009Z",
     "start_time": "2024-09-15T11:06:56.187863Z"
    }
   },
   "cell_type": "code",
   "source": [
    "a=[1,2,3]\n",
    "b=a[:]\n",
    "b"
   ],
   "id": "7834b42a18798335",
   "outputs": [
    {
     "data": {
      "text/plain": [
       "[1, 2, 3]"
      ]
     },
     "execution_count": 48,
     "metadata": {},
     "output_type": "execute_result"
    }
   ],
   "execution_count": 48
  },
  {
   "metadata": {
    "ExecuteTime": {
     "end_time": "2024-09-15T11:11:42.380526Z",
     "start_time": "2024-09-15T11:11:42.372292Z"
    }
   },
   "cell_type": "code",
   "source": [
    "for i in range(1,10):\n",
    "    for j in range(1,i+1):\n",
    "        print(f'{j}*{i}={j*i}',end=' ')\n",
    "    print()"
   ],
   "id": "a89081c61df1c6f1",
   "outputs": [
    {
     "name": "stdout",
     "output_type": "stream",
     "text": [
      "1*1=1 \n",
      "1*2=2 2*2=4 \n",
      "1*3=3 2*3=6 3*3=9 \n",
      "1*4=4 2*4=8 3*4=12 4*4=16 \n",
      "1*5=5 2*5=10 3*5=15 4*5=20 5*5=25 \n",
      "1*6=6 2*6=12 3*6=18 4*6=24 5*6=30 6*6=36 \n",
      "1*7=7 2*7=14 3*7=21 4*7=28 5*7=35 6*7=42 7*7=49 \n",
      "1*8=8 2*8=16 3*8=24 4*8=32 5*8=40 6*8=48 7*8=56 8*8=64 \n",
      "1*9=9 2*9=18 3*9=27 4*9=36 5*9=45 6*9=54 7*9=63 8*9=72 9*9=81 \n"
     ]
    }
   ],
   "execution_count": 53
  },
  {
   "metadata": {
    "ExecuteTime": {
     "end_time": "2024-09-15T11:27:28.518577Z",
     "start_time": "2024-09-15T11:27:26.485603Z"
    }
   },
   "cell_type": "code",
   "source": [
    "#!/usr/bin/python\n",
    "# -*- coding: UTF-8 -*-\n",
    " \n",
    "import time\n",
    " \n",
    "myD = {1: 'a', 2: 'b'}\n",
    "for key, value in dict.items(myD):     #dict.items()键值对\n",
    "    print (key, value)\n",
    "    time.sleep(1) "
   ],
   "id": "e936531ee20033fa",
   "outputs": [
    {
     "name": "stdout",
     "output_type": "stream",
     "text": [
      "1 a\n",
      "2 b\n"
     ]
    }
   ],
   "execution_count": 55
  },
  {
   "metadata": {
    "ExecuteTime": {
     "end_time": "2024-09-16T02:47:21.955296Z",
     "start_time": "2024-09-16T02:47:20.927232Z"
    }
   },
   "cell_type": "code",
   "source": [
    "import time\n",
    "print(time.strftime(\"%Y-%m-%d %H:%M:%S\", time.localtime()))\n",
    "\n",
    "time.sleep(1)\n",
    "print(time.strftime(\"%Y-%m-%d %H:%M:%S\", time.localtime()))\n"
   ],
   "id": "872434a6b3509026",
   "outputs": [
    {
     "name": "stdout",
     "output_type": "stream",
     "text": [
      "2024-09-16 10:47:20\n",
      "2024-09-16 10:47:21\n"
     ]
    }
   ],
   "execution_count": 3
  },
  {
   "metadata": {
    "ExecuteTime": {
     "end_time": "2024-09-15T11:47:57.024686Z",
     "start_time": "2024-09-15T11:47:51.501325Z"
    }
   },
   "cell_type": "code",
   "source": [
    "def rabbit_count(months):\n",
    "    if months == 1 or months == 2:\n",
    "        return 1\n",
    "    f1, f2 = 1, 1\n",
    "    for i in range(3, months + 1):\n",
    "        f1, f2 = f2, f1 + f2\n",
    "    return f2\n",
    "\n",
    "# 输入月数\n",
    "months = int(input(\"输入月数: \"))\n",
    "print(f\"第 {months} 个月的兔子总数为: {rabbit_count(months)}\")\n"
   ],
   "id": "e29083dd38a1787e",
   "outputs": [
    {
     "name": "stdout",
     "output_type": "stream",
     "text": [
      "第 55 个月的兔子总数为: 139583862445\n"
     ]
    }
   ],
   "execution_count": 67
  },
  {
   "metadata": {
    "ExecuteTime": {
     "end_time": "2024-09-15T12:02:35.425697Z",
     "start_time": "2024-09-15T12:02:35.408565Z"
    }
   },
   "cell_type": "code",
   "source": [
    "import math\n",
    "def is_prime(n):\n",
    "    if n<2:\n",
    "        return False\n",
    "    elif n>=2:\n",
    "        for i in range(2,int(math.sqrt(n))+1):\n",
    "            if n % i == 0:\n",
    "                return False\n",
    "    return True\n",
    "is_prime(6)\n",
    "\n",
    "prime_numbers=[]\n",
    "prime_count=0\n",
    "\n",
    "for num in range(101,201):\n",
    "    if is_prime(num):\n",
    "        prime_numbers.append(num)\n",
    "        prime_count+=1\n",
    "        \n",
    "print(f\"101到200之间的素数个数为: {prime_count}\")\n",
    "print(f\"所有素数为: {prime_numbers}\")"
   ],
   "id": "ae0bfb53ea171e9a",
   "outputs": [
    {
     "name": "stdout",
     "output_type": "stream",
     "text": [
      "101到200之间的素数个数为: 21\n",
      "所有素数为: [101, 103, 107, 109, 113, 127, 131, 137, 139, 149, 151, 157, 163, 167, 173, 179, 181, 191, 193, 197, 199]\n"
     ]
    }
   ],
   "execution_count": 72
  },
  {
   "metadata": {
    "ExecuteTime": {
     "end_time": "2024-09-15T12:04:45.947017Z",
     "start_time": "2024-09-15T12:04:45.930215Z"
    }
   },
   "cell_type": "code",
   "source": [
    "for n in range(100,1000):\n",
    "    i = n // 100\n",
    "    j = n // 10 % 10\n",
    "    k = n % 10\n",
    "    if n == i*i*i + j*j*j + k*k*k: \n",
    "        print(n)"
   ],
   "id": "c162ce964cc101cc",
   "outputs": [
    {
     "name": "stdout",
     "output_type": "stream",
     "text": [
      "153\n",
      "370\n",
      "371\n",
      "407\n"
     ]
    }
   ],
   "execution_count": 73
  },
  {
   "metadata": {
    "ExecuteTime": {
     "end_time": "2024-09-15T13:27:00.163613Z",
     "start_time": "2024-09-15T13:26:58.232293Z"
    }
   },
   "cell_type": "code",
   "source": [
    "def pf(n):\n",
    "    divisor=2\n",
    "    factors=[]\n",
    "    while n>1:\n",
    "        while n % divisor == 0:\n",
    "              factors.append(divisor)\n",
    "              n//=divisor\n",
    "        divisor+=1\n",
    "    return factors\n",
    "n=int(input('正整数'))\n",
    "factors=pf(n)\n",
    "print(factors)\n",
    "print(f\"{n} 的质因数分解为: \", end=\"\")\n",
    "print(\"*\".join(map(str, factors)))"
   ],
   "id": "c66aecccdcc3a855",
   "outputs": [
    {
     "name": "stdout",
     "output_type": "stream",
     "text": [
      "[2, 2, 2]\n",
      "8 的质因数分解为: 2*2*2\n"
     ]
    }
   ],
   "execution_count": 85
  },
  {
   "metadata": {
    "ExecuteTime": {
     "end_time": "2024-09-15T13:24:06.138152Z",
     "start_time": "2024-09-15T13:24:03.682419Z"
    }
   },
   "cell_type": "code",
   "source": [
    "def prime_factorization(n):\n",
    "    \"\"\"分解正整数 n 的质因数\"\"\"\n",
    "    factors = []\n",
    "    # 从2开始，尝试除以n\n",
    "    divisor = 2\n",
    "    while n > 1:\n",
    "        while n % divisor == 0:  # 如果能整除，加入质因数列表\n",
    "            factors.append(divisor)\n",
    "            n //= divisor\n",
    "        divisor += 1  # 尝试下一个可能的质因数\n",
    "\n",
    "    return factors\n",
    "\n",
    "# 输入一个正整数\n",
    "n = int(input(\"请输入一个正整数: \"))\n",
    "factors = prime_factorization(n)\n",
    "\n",
    "# 输出质因数分解的结果\n",
    "print(f\"{n} 的质因数分解为: \", end=\"\")\n",
    "print(\"*\".join(map(str, factors)))\n"
   ],
   "id": "5ed8ffbc5f705c7",
   "outputs": [
    {
     "name": "stdout",
     "output_type": "stream",
     "text": [
      "9 的质因数分解为: 3*3\n"
     ]
    }
   ],
   "execution_count": 81
  },
  {
   "metadata": {
    "ExecuteTime": {
     "end_time": "2024-09-16T02:37:33.465715Z",
     "start_time": "2024-09-16T02:37:28.662424Z"
    }
   },
   "cell_type": "code",
   "source": [
    "\n",
    "score = int(input('输入分数:\\n'))\n",
    "if score >= 90:\n",
    "    grade = 'A'\n",
    "elif score >= 60:\n",
    "    grade = 'B'\n",
    "else:\n",
    "    grade = 'C'\n",
    " \n",
    "print ('%d 属于 %s' % (score,grade))"
   ],
   "id": "15f150934854f9be",
   "outputs": [
    {
     "name": "stdout",
     "output_type": "stream",
     "text": [
      "56 属于 C\n"
     ]
    }
   ],
   "execution_count": 1
  },
  {
   "metadata": {
    "ExecuteTime": {
     "end_time": "2024-09-16T02:38:18.700156Z",
     "start_time": "2024-09-16T02:38:18.683677Z"
    }
   },
   "cell_type": "code",
   "source": [
    "\n",
    "import datetime\n",
    " \n",
    "if __name__ == '__main__':\n",
    "    # 直接运行时会执行，作为模块调用时不执行\n",
    "    # 输出今日日期，格式为 dd/mm/yyyy。更多选项可以查看 strftime() 方法\n",
    "    print(datetime.date.today().strftime('%d/%m/%Y'))\n",
    " \n",
    "    # 创建日期对象\n",
    "    miyazakiBirthDate = datetime.date(1941, 1, 5)\n",
    " \n",
    "    print(miyazakiBirthDate.strftime('%d/%m/%Y'))\n",
    " \n",
    "    # 日期算术运算\n",
    "    miyazakiBirthNextDay = miyazakiBirthDate + datetime.timedelta(days=1)\n",
    " \n",
    "    print(miyazakiBirthNextDay.strftime('%d/%m/%Y'))\n",
    " \n",
    "    # 日期替换\n",
    "    miyazakiFirstBirthday = miyazakiBirthDate.replace(year=miyazakiBirthDate.year + 1)\n",
    " \n",
    "    print(miyazakiFirstBirthday.strftime('%d/%m/%Y'))"
   ],
   "id": "1d8dcf3037529bf4",
   "outputs": [
    {
     "name": "stdout",
     "output_type": "stream",
     "text": [
      "16/09/2024\n",
      "05/01/1941\n",
      "06/01/1941\n",
      "05/01/1942\n"
     ]
    }
   ],
   "execution_count": 2
  },
  {
   "metadata": {
    "ExecuteTime": {
     "end_time": "2024-09-16T02:49:28.617931Z",
     "start_time": "2024-09-16T02:49:18.534893Z"
    }
   },
   "cell_type": "code",
   "source": [
    "#!/usr/bin/python3\n",
    " \n",
    "import string\n",
    "s = input('请输入一个字符串:\\n')\n",
    "letters = 0\n",
    "space = 0\n",
    "digit = 0\n",
    "others = 0\n",
    "for c in s:\n",
    "    if c.isalpha():\n",
    "        letters += 1\n",
    "    elif c.isspace():\n",
    "        space += 1\n",
    "    elif c.isdigit():\n",
    "        digit += 1\n",
    "    else:\n",
    "        others += 1\n",
    "print ('char = %d,space = %d,digit = %d,others = %d' % (letters,space,digit,others))"
   ],
   "id": "96c30059d250188",
   "outputs": [
    {
     "name": "stdout",
     "output_type": "stream",
     "text": [
      "char = 8,space = 0,digit = 2,others = 0\n"
     ]
    }
   ],
   "execution_count": 4
  },
  {
   "metadata": {
    "ExecuteTime": {
     "end_time": "2024-09-16T02:52:39.074107Z",
     "start_time": "2024-09-16T02:52:39.062072Z"
    }
   },
   "cell_type": "code",
   "source": [
    "import string\n",
    "\n",
    "print(string.ascii_letters)   # 输出：abcdefghijklmnopqrstuvwxyzABCDEFGHIJKLMNOPQRSTUVWXYZ\n",
    "print(string.digits)          # 输出：0123456789\n",
    "print(string.punctuation)      # 输出：!\"#$%&'()*+,-./:;<=>?@[\\]^_`{|}~\n"
   ],
   "id": "43c98bbd415b6468",
   "outputs": [
    {
     "name": "stdout",
     "output_type": "stream",
     "text": [
      "abcdefghijklmnopqrstuvwxyzABCDEFGHIJKLMNOPQRSTUVWXYZ\n",
      "0123456789\n",
      "!\"#$%&'()*+,-./:;<=>?@[\\]^_`{|}~\n"
     ]
    }
   ],
   "execution_count": 5
  },
  {
   "metadata": {
    "ExecuteTime": {
     "end_time": "2024-09-16T03:25:09.807792Z",
     "start_time": "2024-09-16T03:25:04.681358Z"
    }
   },
   "cell_type": "code",
   "source": [
    "'''求s=a+aa+aaa+aaaa+aa...a的值，其中a是一个数字。例如2+22+222+2222+22222(此时共有5个数相加)，几个数相加由键盘控制。'''\n",
    "\n",
    "from functools import reduce\n",
    "Sn=[]\n",
    "Tn=0\n",
    "n = int(input(\"n\"))\n",
    "a = int(input(\"a\"))\n",
    "expression = \"\"\n",
    "for i in range(n):\n",
    "        Tn=Tn+a\n",
    "        a=a*10\n",
    "        Sn.append(Tn)\n",
    "        print (Tn)      \n",
    "        if i<n-1:\n",
    "            expression += str(Tn)+\"+\"\n",
    "        else:\n",
    "            expression += str(Tn)\n",
    "Sn = reduce(lambda x, y: x + y, Sn)\n",
    "print(expression)\n",
    "print (\"计算和为：\", Sn)\n"
   ],
   "id": "9413c65d0b4d9f09",
   "outputs": [
    {
     "name": "stdout",
     "output_type": "stream",
     "text": [
      "1\n",
      "11\n",
      "111\n",
      "1111\n",
      "11111\n",
      "111111\n",
      "1111111\n",
      "11111111\n",
      "1+11+111+1111+11111+111111+1111111+11111111\n",
      "计算和为： 12345678\n"
     ]
    }
   ],
   "execution_count": 21
  },
  {
   "metadata": {
    "ExecuteTime": {
     "end_time": "2024-09-16T03:25:21.426673Z",
     "start_time": "2024-09-16T03:25:17.036130Z"
    }
   },
   "cell_type": "code",
   "source": [
    "n = int(input(\"请输入 n 的值（项数）：\"))\n",
    "a = int(input(\"请输入 a 的值（基数）：\"))\n",
    "\n",
    "# 初始化变量\n",
    "current_value = 0  # 存储每一项\n",
    "total_sum = 0  # 存储总和\n",
    "expression = \"\"  # 用来拼接表达式\n",
    "\n",
    "for i in range(n):\n",
    "    current_value = current_value * 10 + a  # 生成类似 2, 22, 222 这样的数字\n",
    "    total_sum += current_value  # 累加到总和中\n",
    "    \n",
    "    # 拼接表达式字符串\n",
    "    expression += str(current_value)\n",
    "    if i < n - 1:\n",
    "        expression += \" + \"\n",
    "\n",
    "# 打印结果\n",
    "print(f\"表达式: {expression}\")\n",
    "print(f\"计算和为: {total_sum}\")\n"
   ],
   "id": "b6d627e91aed5a86",
   "outputs": [
    {
     "name": "stdout",
     "output_type": "stream",
     "text": [
      "表达式: 1 + 11 + 111 + 1111 + 11111 + 111111 + 1111111 + 11111111\n",
      "计算和为: 12345678\n"
     ]
    }
   ],
   "execution_count": 22
  },
  {
   "metadata": {
    "ExecuteTime": {
     "end_time": "2024-09-18T10:27:34.862313Z",
     "start_time": "2024-09-18T10:27:32.125703Z"
    }
   },
   "cell_type": "code",
   "source": [
    "'''\n",
    " 20\n",
    "'''\n",
    "h=100\n",
    "n=int(input(\"弹跳次数\"))\n",
    "total_h = 0\n",
    "\n",
    "\n",
    "for i in range(1,n+1):\n",
    "    total_h += h + h/2\n",
    "    h/=2\n",
    "\n",
    "total_h-=h   \n",
    "print(\"当前高度\"+str(h)+'m')\n",
    "print(\"总路程\"+str(total_h)+'m')\n"
   ],
   "id": "2f7e9b8c04919919",
   "outputs": [
    {
     "name": "stdout",
     "output_type": "stream",
     "text": [
      "当前高度0.09765625m\n",
      "总路程299.609375m\n"
     ]
    }
   ],
   "execution_count": 11
  },
  {
   "metadata": {
    "ExecuteTime": {
     "end_time": "2024-09-18T10:43:18.248917Z",
     "start_time": "2024-09-18T10:43:12.628573Z"
    }
   },
   "cell_type": "code",
   "source": [
    "'''\n",
    "猴子吃桃问题：猴子第一天摘下若干个桃子，当即吃了一半，还不瘾，又多吃了一个第二天早上又将剩下的桃子吃掉一半，又多吃了一个。以后每天早上都吃了前一天剩下的一半零一个。到第10天早上想再吃时，见只剩下一个桃子了。求第一天共摘了多少。\n",
    "'''\n",
    "\n",
    "def eat():\n",
    "    _Day=int(input(\"当前吃了多少天\"))\n",
    "    _Remain=int(input(\"现在还剩几个桃\"))\n",
    "    \n",
    "    for i in range(1,_Day+1):\n",
    "        _Remain=(_Remain+1)*2\n",
    "        \n",
    "    print(_Remain)\n",
    "        \n",
    "eat()"
   ],
   "id": "c5387a31d59da26",
   "outputs": [
    {
     "name": "stdout",
     "output_type": "stream",
     "text": [
      "1534\n"
     ]
    }
   ],
   "execution_count": 20
  },
  {
   "metadata": {
    "ExecuteTime": {
     "end_time": "2024-09-19T11:30:22.869320Z",
     "start_time": "2024-09-19T11:30:22.855282Z"
    }
   },
   "cell_type": "code",
   "source": [
    "'''\n",
    "两个乒乓球队进行比赛，各出三人。甲队为a,b,c三人，乙队为x,y,z三人。已抽签决定比赛名单。有人向队员打听比赛的名单。a说他不和x比，c说他不和x,z比，请编程序找出三队赛手的名单。\n",
    "'''\n",
    "teamA=['a','b','c']\n",
    "teamB=['x','y','z']\n",
    "match=[]\n",
    "\n",
    "for a_vs in teamB:\n",
    "    if a_vs =='x': #a已经和一人比赛\n",
    "        continue\n",
    "    for b_vs in teamB:\n",
    "        if b_vs ==a_vs:\n",
    "            continue\n",
    "        for c_vs in teamB:\n",
    "            if c_vs == a_vs or c_vs == b_vs: \n",
    "                continue\n",
    "            if c_vs == 'x' and c_vs == 'z':  # c不和x, z比\n",
    "                continue\n",
    "            match.append([('a',a_vs),('b',b_vs),('c',c_vs)])\n",
    "            \n",
    "for i in match:\n",
    "    print(\"比赛名单: \")\n",
    "    for pair in i:\n",
    "        print(f\"{pair[0]} 对 {pair[1]}\")\n",
    "        "
   ],
   "id": "95475860e23d329",
   "outputs": [
    {
     "name": "stdout",
     "output_type": "stream",
     "text": [
      "比赛名单: \n",
      "a 对 y\n",
      "b 对 x\n",
      "c 对 z\n",
      "比赛名单: \n",
      "a 对 y\n",
      "b 对 z\n",
      "c 对 x\n",
      "比赛名单: \n",
      "a 对 z\n",
      "b 对 x\n",
      "c 对 y\n",
      "比赛名单: \n",
      "a 对 z\n",
      "b 对 y\n",
      "c 对 x\n"
     ]
    }
   ],
   "execution_count": 2
  },
  {
   "metadata": {
    "ExecuteTime": {
     "end_time": "2024-09-18T11:11:36.577541Z",
     "start_time": "2024-09-18T11:11:36.565569Z"
    }
   },
   "cell_type": "code",
   "source": [
    "# 定义甲队和乙队的选手\n",
    "team_A = ['a', 'b', 'c']\n",
    "team_B = ['x', 'y', 'z']\n",
    "\n",
    "# 用于存储结果\n",
    "matchups = []\n",
    "\n",
    "# 遍历甲队和乙队所有可能的比赛组合\n",
    "for a_vs in team_B:\n",
    "    if a_vs == 'x':  # a不和x比\n",
    "        continue\n",
    "    for b_vs in team_B:\n",
    "        if b_vs == a_vs:  # 确保每个选手只能比赛一次\n",
    "            continue\n",
    "        for c_vs in team_B:\n",
    "            if c_vs == a_vs or c_vs == b_vs:  # 确保每个选手只能比赛一次\n",
    "                continue\n",
    "            if c_vs == 'x' or c_vs == 'z':  # c不和x, z比\n",
    "                continue\n",
    "            # 记录有效的比赛组合\n",
    "            matchups.append([('a', a_vs), ('b', b_vs), ('c', c_vs)])\n",
    "\n",
    "# 输出符合条件的比赛组合\n",
    "for matchup in matchups:\n",
    "    print(\"比赛名单: \")\n",
    "    for pair in matchup:\n",
    "        print(f\"{pair[0]} 对 {pair[1]}\")\n"
   ],
   "id": "9158d622f82849cb",
   "outputs": [
    {
     "name": "stdout",
     "output_type": "stream",
     "text": [
      "比赛名单: \n",
      "a 对 z\n",
      "b 对 x\n",
      "c 对 y\n"
     ]
    }
   ],
   "execution_count": 34
  },
  {
   "metadata": {
    "ExecuteTime": {
     "end_time": "2024-09-18T11:31:54.375213Z",
     "start_time": "2024-09-18T11:31:52.058089Z"
    }
   },
   "cell_type": "code",
   "source": [
    "'''\n",
    "有一分数序列：2/1，3/2，5/3，8/5，13/8，21/13...求出这个数列的前20项之和。\n",
    "'''\n",
    "\n",
    "a=2\n",
    "b=1\n",
    "sum_=0\n",
    "n=int(input(\"n\"))\n",
    "for i in range(1,n+1):\n",
    "    sum_+=a/b\n",
    "    t=a\n",
    "    a=a+b\n",
    "    b=t\n",
    "print(sum_)"
   ],
   "id": "ff3566d69360cf06",
   "outputs": [
    {
     "name": "stdout",
     "output_type": "stream",
     "text": [
      "32.66026079864164\n"
     ]
    }
   ],
   "execution_count": 40
  },
  {
   "metadata": {
    "ExecuteTime": {
     "end_time": "2024-09-18T12:04:09.116206Z",
     "start_time": "2024-09-18T12:04:06.830346Z"
    }
   },
   "cell_type": "code",
   "source": [
    "'''求1+2!+3!+...+20!的和。'''\n",
    "\n",
    "def jc(n):\n",
    "    n0=1\n",
    "    for i in range(1,n+1):\n",
    "        n0*=i\n",
    "    return n0\n",
    "def sjc():\n",
    "    m=int(input('多少个阶乘数相加'))\n",
    "    s=0\n",
    "    for i in range(1,m+1):\n",
    "        s=s+jc(i)\n",
    "    return s\n",
    "print(\"结果为\",sjc())\n",
    "      "
   ],
   "id": "f75635d19b1de411",
   "outputs": [
    {
     "name": "stdout",
     "output_type": "stream",
     "text": [
      "结果为 274410818470142134209703780940313\n"
     ]
    }
   ],
   "execution_count": 54
  },
  {
   "metadata": {
    "ExecuteTime": {
     "end_time": "2024-09-18T12:46:37.798520Z",
     "start_time": "2024-09-18T12:46:34.068392Z"
    }
   },
   "cell_type": "code",
   "source": [
    "'''利用递归函数调用方式，将所输入的5个字符，以相反顺序打印出来。'''\n",
    "def contrary(s):\n",
    "    if s=='':\n",
    "        return\n",
    "    else:\n",
    "        contrary(s[1:])\n",
    "        \n",
    "        print(s[0],end='')\n",
    "        \n",
    "n=input(\"str\")\n",
    "contrary(n)"
   ],
   "id": "d8bde70870f5b20e",
   "outputs": [
    {
     "name": "stdout",
     "output_type": "stream",
     "text": [
      "wniladnnl nslaijd"
     ]
    }
   ],
   "execution_count": 4
  },
  {
   "metadata": {
    "ExecuteTime": {
     "end_time": "2024-09-18T13:05:54.651389Z",
     "start_time": "2024-09-18T13:05:54.639198Z"
    }
   },
   "cell_type": "code",
   "source": [
    "'''\n",
    "有5个人坐在一起，问第五个人多少岁？他说比第4个人大2岁。问第4个人岁数，他说比第3个人大2岁。问第三个人，又说比第2人大两岁。问第2个人，说比第一个人大两岁。最后问第一个人，他说是10岁。请问第五个人多大？\n",
    "'''\n",
    "\n",
    "def age(n):\n",
    "    if n == 1: c = 10\n",
    "    else: c = age(n - 1) + 2\n",
    "    return c\n",
    "print (age(5))\n"
   ],
   "id": "39af65750c74ca19",
   "outputs": [
    {
     "name": "stdout",
     "output_type": "stream",
     "text": [
      "18\n"
     ]
    }
   ],
   "execution_count": 5
  },
  {
   "metadata": {},
   "cell_type": "code",
   "outputs": [],
   "execution_count": null,
   "source": [
    "'''给一个不多于5位的正整数，要求：一、求它是几位数，二、逆序打印出各位数字。'''\n",
    "\n",
    "x = int(input(\"请输入一个数:\\n\"))\n",
    "a = x // 10000\n",
    "b = x % 10000 // 1000\n",
    "c = x % 1000 // 100\n",
    "d = x % 100 // 10\n",
    "e = x % 10\n",
    " \n",
    "if a != 0:\n",
    "    print (\"5 位数：\",e,d,c,b,a)\n",
    "elif b != 0:\n",
    "    print (\"4 位数：\",e,d,c,b)\n",
    "elif c != 0:\n",
    "    print (\"3 位数：\",e,d,c)\n",
    "elif d != 0:\n",
    "    print (\"2 位数：\",e,d)\n",
    "else:\n",
    "    print (\"1 位数：\",e)  \n"
   ],
   "id": "1ac5c7c94c12a32d"
  },
  {
   "metadata": {
    "ExecuteTime": {
     "end_time": "2024-09-18T13:14:09.757546Z",
     "start_time": "2024-09-18T13:14:07.575321Z"
    }
   },
   "cell_type": "code",
   "source": [
    "'''一个5位数，判断它是不是回文数。即12321是回文数，个位与万位相同，十位与千位相同。'''\n",
    "x=int(input(\"输入一个五位数\"))\n",
    "a = x // 10000\n",
    "b = x % 10000 // 1000\n",
    "c = x % 1000 // 100\n",
    "d = x % 100 // 10\n",
    "e = x % 10\n",
    "if(a==e)&(b==d):\n",
    "    print(\"right\")\n",
    "else:\n",
    "    print(\"wrong\")\n"
   ],
   "id": "7b84b1f6b4e69f8b",
   "outputs": [
    {
     "name": "stdout",
     "output_type": "stream",
     "text": [
      "wrong\n"
     ]
    }
   ],
   "execution_count": 10
  },
  {
   "metadata": {
    "ExecuteTime": {
     "end_time": "2024-09-18T13:24:41.073096Z",
     "start_time": "2024-09-18T13:24:36.367531Z"
    }
   },
   "cell_type": "code",
   "source": [
    "'''请输入星期几的第一个字母来判断一下是星期几，如果第一个字母一样，则继续判断第二个字母。'''\n",
    "'''Monday Tuesday Wednesday Thursday Friday Saturday Sunday'''\n",
    "\n",
    "ll=input(\"a.letter\")\n",
    "if ll=='S':\n",
    "    print(\"请输入b.letter\")\n",
    "    ee=input(\"b.letter\")\n",
    "    if ee=='a':\n",
    "        print(\"周六\")\n",
    "    elif ee=='b':\n",
    "        print(\"周日\")\n",
    "elif ll=='M':\n",
    "    print(\"周一\")\n",
    "elif ll=='T':\n",
    "    print(\"请输入b.letter\")\n",
    "    ee=input(\"b.letter\")\n",
    "    if ee=='u':\n",
    "        print(\"周二\")\n",
    "    elif ee=='h':\n",
    "        print(\"周四\")\n",
    "elif ll=='W':\n",
    "    print(\"周三\")\n",
    "elif ll=='F':\n",
    "    print(\"周五\")"
   ],
   "id": "a39aaa4ed3987d5f",
   "outputs": [
    {
     "name": "stdout",
     "output_type": "stream",
     "text": [
      "请输入b.letter\n",
      "周六\n"
     ]
    }
   ],
   "execution_count": 14
  },
  {
   "metadata": {
    "ExecuteTime": {
     "end_time": "2024-09-18T13:29:46.398612Z",
     "start_time": "2024-09-18T13:29:41.721605Z"
    }
   },
   "cell_type": "code",
   "source": [
    "'''按相反的顺序输出列表的值。'''\n",
    "\n",
    "user_input=input(\"输入列表的元素，用空格隔开\")\n",
    "mylist=user_input.split(' ')\n",
    "\n",
    "for i in mylist[::-1]:\n",
    "    print(i,end='')"
   ],
   "id": "22fc48c8542b957d",
   "outputs": [
    {
     "name": "stdout",
     "output_type": "stream",
     "text": [
      "78651"
     ]
    }
   ],
   "execution_count": 18
  },
  {
   "metadata": {
    "ExecuteTime": {
     "end_time": "2024-09-18T13:37:49.035307Z",
     "start_time": "2024-09-18T13:37:45.979905Z"
    }
   },
   "cell_type": "code",
   "source": [
    "'''按逗号分隔列表。'''\n",
    "user_input = input(\"输入列表的元素，用空格隔开: \")\n",
    "mylist = user_input.split()\n",
    "\n",
    "for i in range(len(mylist)):\n",
    "    if i == len(mylist) - 1:  # 判断是否是最后一个元素\n",
    "        print(mylist[i], end='')  # 最后一个元素后不加逗号\n",
    "    else:\n",
    "        print(mylist[i], end=',')  # 其他元素后加逗号\n"
   ],
   "id": "350e50bd60990530",
   "outputs": [
    {
     "name": "stdout",
     "output_type": "stream",
     "text": [
      "s,d,d"
     ]
    }
   ],
   "execution_count": 25
  },
  {
   "metadata": {
    "ExecuteTime": {
     "end_time": "2024-09-18T13:42:07.611314Z",
     "start_time": "2024-09-18T13:42:04.958836Z"
    }
   },
   "cell_type": "code",
   "source": [
    "user_input = input(\"输入列表的元素，用空格隔开: \")\n",
    "mylist = user_input.split()\n",
    "'''\n",
    "    spit函数用于将字符串按照指定形式拆分为列表\n",
    "'''\n",
    "# 使用 join 方法将列表元素以逗号分隔合并成字符串\n",
    "print(','.join(mylist))\n",
    "#'''join方法可以直接在列表中添加元素'''\n"
   ],
   "id": "9e98b062ac53c15c",
   "outputs": [
    {
     "name": "stdout",
     "output_type": "stream",
     "text": [
      "s,d,f\n"
     ]
    }
   ],
   "execution_count": 31
  },
  {
   "metadata": {
    "ExecuteTime": {
     "end_time": "2024-09-18T13:44:47.625857Z",
     "start_time": "2024-09-18T13:44:47.608652Z"
    }
   },
   "cell_type": "code",
   "source": [
    "'''\n",
    "题目：练习函数调用。\n",
    "程序分析：使用函数，输出三次 RUNOOB 字符串。\n",
    "'''\n",
    "def pt():\n",
    "    print(\"RUNOOB\")\n",
    "for i in range(3):\n",
    "    pt()"
   ],
   "id": "70ce9f6115559ff5",
   "outputs": [
    {
     "name": "stdout",
     "output_type": "stream",
     "text": [
      "RUNOOB\n",
      "RUNOOB\n",
      "RUNOOB\n"
     ]
    }
   ],
   "execution_count": 34
  },
  {
   "metadata": {
    "ExecuteTime": {
     "end_time": "2024-09-18T13:45:23.240517Z",
     "start_time": "2024-09-18T13:45:23.228570Z"
    }
   },
   "cell_type": "code",
   "source": [
    "'''题目：文本颜色设置。'''\n",
    "\n",
    "class bcolors:\n",
    "    HEADER = '\\033[95m'\n",
    "    OKBLUE = '\\033[94m'\n",
    "    OKGREEN = '\\033[92m'\n",
    "    WARNING = '\\033[93m'\n",
    "    FAIL = '\\033[91m'\n",
    "    ENDC = '\\033[0m'\n",
    "    BOLD = '\\033[1m'\n",
    "    UNDERLINE = '\\033[4m'\n",
    "print (bcolors.WARNING + \"警告的颜色字体?\" + bcolors.ENDC)\n"
   ],
   "id": "8564a5092da12836",
   "outputs": [
    {
     "name": "stdout",
     "output_type": "stream",
     "text": [
      "\u001B[93m警告的颜色字体?\u001B[0m\n"
     ]
    }
   ],
   "execution_count": 35
  },
  {
   "metadata": {
    "ExecuteTime": {
     "end_time": "2024-09-18T14:06:58.860747Z",
     "start_time": "2024-09-18T14:06:58.853516Z"
    }
   },
   "cell_type": "code",
   "source": [
    "import math\n",
    "n = 100  # 正确的赋值语法是一个等号\n",
    "for i in range(2, n + 1):  # 素数是从 2 开始的，因为 1 不是素数\n",
    "    is_prime = True  # 假设当前数字是素数\n",
    "    for j in range(2, int(math.sqrt(i)) + 1):  # 只需检查到 i 的平方根\n",
    "        if i % j == 0:  # 如果能整除，说明 i 不是素数\n",
    "            is_prime = False\n",
    "            break  # 既然不是素数，就可以退出检查了\n",
    "    if is_prime:\n",
    "        print(i, end=' ')\n"
   ],
   "id": "93b612e61ba3934f",
   "outputs": [
    {
     "name": "stdout",
     "output_type": "stream",
     "text": [
      "2 3 5 7 11 13 17 19 23 29 31 37 41 43 47 53 59 61 67 71 73 79 83 89 97 "
     ]
    }
   ],
   "execution_count": 43
  },
  {
   "metadata": {
    "ExecuteTime": {
     "end_time": "2024-09-18T13:59:48.600932Z",
     "start_time": "2024-09-18T13:59:48.583954Z"
    }
   },
   "cell_type": "code",
   "source": [
    "'''\n",
    "import math\n",
    "\n",
    "def is_prime(n):\n",
    "    if n < 2:\n",
    "        return False\n",
    "    elif n >= 2:\n",
    "        for i in range(2, int(math.sqrt(n)) + 1):\n",
    "            if n % i == 0:\n",
    "                return False\n",
    "    return True\n",
    "\n",
    "is_prime(6)\n",
    "\n",
    "prime_numbers = []\n",
    "prime_count = 0\n",
    "\n",
    "for num in range(101, 201):\n",
    "    if is_prime(num):\n",
    "        prime_numbers.append(num)\n",
    "        prime_count += 1\n",
    "\n",
    "print(f\"101到200之间的素数个数为: {prime_count}\")\n",
    "print(f\"所有素数为: {prime_numbers}\")\n",
    "'''"
   ],
   "id": "b23c8d632d6f2f02",
   "outputs": [
    {
     "name": "stdout",
     "output_type": "stream",
     "text": [
      "101到200之间的素数个数为: 21\n",
      "所有素数为: [101, 103, 107, 109, 113, 127, 131, 137, 139, 149, 151, 157, 163, 167, 173, 179, 181, 191, 193, 197, 199]\n"
     ]
    }
   ],
   "execution_count": 36
  },
  {
   "metadata": {},
   "cell_type": "code",
   "outputs": [],
   "execution_count": null,
   "source": [
    "'''\n",
    "题目：对10个数进行排序。\n",
    "程序分析：可以利用选择法，即从后9个比较过程中，选择一个最小的与第一个元素交换，下次类推，即用第二个元素与后8个进行比较，并进行交换。\n",
    "'''\n",
    "\n"
   ],
   "id": "cb2d091c19e5817"
  },
  {
   "metadata": {},
   "cell_type": "code",
   "outputs": [],
   "execution_count": null,
   "source": [
    "#22\n",
    "# 定义甲队和乙队的选手\n",
    "team_A = ['a', 'b', 'c']\n",
    "team_B = ['x', 'y', 'z']\n",
    "\n",
    "# 用于存储结果\n",
    "matchups = []\n",
    "\n",
    "# 遍历甲队和乙队所有可能的比赛组合\n",
    "for a_vs in team_B:\n",
    "    if a_vs == 'x':  # a不和x比\n",
    "        continue\n",
    "    for b_vs in team_B:\n",
    "        if b_vs == a_vs:  # 确保每个选手只能比赛一次\n",
    "            continue\n",
    "        for c_vs in team_B:\n",
    "            if c_vs == a_vs or c_vs == b_vs:  # 确保每个选手只能比赛一次\n",
    "                continue\n",
    "            if c_vs == 'x' or c_vs == 'z':  # c不和x, z比\n",
    "                continue\n",
    "            # 记录有效的比赛组合\n",
    "            matchups.append([('a', a_vs), ('b', b_vs), ('c', c_vs)])\n",
    "\n",
    "# 输出符合条件的比赛组合\n",
    "for matchup in matchups:\n",
    "    print(\"比赛名单: \")\n",
    "    for pair in matchup:\n",
    "        print(f\"{pair[0]} 对 {pair[1]}\")"
   ],
   "id": "59df6840bcfa8e89"
  }
 ],
 "metadata": {
  "kernelspec": {
   "display_name": "Python 3",
   "language": "python",
   "name": "python3"
  },
  "language_info": {
   "codemirror_mode": {
    "name": "ipython",
    "version": 2
   },
   "file_extension": ".py",
   "mimetype": "text/x-python",
   "name": "python",
   "nbconvert_exporter": "python",
   "pygments_lexer": "ipython2",
   "version": "2.7.6"
  }
 },
 "nbformat": 4,
 "nbformat_minor": 5
}
